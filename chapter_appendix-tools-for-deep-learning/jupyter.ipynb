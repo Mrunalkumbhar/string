{
  "cells": [
    {
      "cell_type": "markdown",
      "metadata": {
        "id": "view-in-github",
        "colab_type": "text"
      },
      "source": [
        "<a href=\"https://colab.research.google.com/github/Mrunalkumbhar/string/blob/main/chapter_appendix-tools-for-deep-learning/jupyter.ipynb\" target=\"_parent\"><img src=\"https://colab.research.google.com/assets/colab-badge.svg\" alt=\"Open In Colab\"/></a>"
      ]
    },
    {
      "cell_type": "markdown",
      "source": [
        "**If you want to enter new line without using print function**"
      ],
      "metadata": {
        "id": "xT9WLSlSNLad"
      },
      "id": "xT9WLSlSNLad"
    },
    {
      "cell_type": "code",
      "source": [
        "print(\"Mrunal\\nWelcome to pythone world\")"
      ],
      "metadata": {
        "colab": {
          "base_uri": "https://localhost:8080/"
        },
        "id": "3VU4v7a_LU-f",
        "outputId": "bfb76df8-5927-416f-f342-02538d6dfa78"
      },
      "id": "3VU4v7a_LU-f",
      "execution_count": null,
      "outputs": [
        {
          "output_type": "stream",
          "name": "stdout",
          "text": [
            "Mrunal\n",
            "Welcome to pythone world\n"
          ]
        }
      ]
    },
    {
      "cell_type": "markdown",
      "source": [
        "**we are passing two parameters name and city to the print function**"
      ],
      "metadata": {
        "id": "v8VRAJZVVhjb"
      },
      "id": "v8VRAJZVVhjb"
    },
    {
      "cell_type": "code",
      "source": [
        "Name=\"Mrunal\"\n",
        "city=\"Karad\"\n",
        "a=print(\"Hi Everyone\\nMy name is\",Name,\"And I am from\",city)\n"
      ],
      "metadata": {
        "id": "taqSbsNwLcBq",
        "outputId": "84e249a4-dc90-459d-87f7-4a78cd2f22b2",
        "colab": {
          "base_uri": "https://localhost:8080/"
        }
      },
      "id": "taqSbsNwLcBq",
      "execution_count": 1,
      "outputs": [
        {
          "output_type": "stream",
          "name": "stdout",
          "text": [
            "Hi Everyone\n",
            "My name is Mrunal And I am from Karad\n"
          ]
        }
      ]
    },
    {
      "cell_type": "code",
      "source": [],
      "metadata": {
        "id": "n1-TPYPjVpo5"
      },
      "id": "n1-TPYPjVpo5",
      "execution_count": null,
      "outputs": []
    }
  ],
  "metadata": {
    "kernelspec": {
      "display_name": "Python 3",
      "name": "python3"
    },
    "language_info": {
      "name": "python"
    },
    "required_libs": [],
    "colab": {
      "provenance": [],
      "include_colab_link": true
    }
  },
  "nbformat": 4,
  "nbformat_minor": 5
}