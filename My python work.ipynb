{
 "cells": [
  {
   "cell_type": "markdown",
   "id": "c0c60ceb",
   "metadata": {},
   "source": [
    "# string"
   ]
  },
  {
   "cell_type": "code",
   "execution_count": 1,
   "id": "f348458a",
   "metadata": {},
   "outputs": [
    {
     "data": {
      "text/plain": [
       "'my name is Mrunal & i am 23 years old'"
      ]
     },
     "execution_count": 1,
     "metadata": {},
     "output_type": "execute_result"
    }
   ],
   "source": [
    "m='my name is Mrunal & i am 23 years old'\n",
    "m"
   ]
  },
  {
   "cell_type": "markdown",
   "id": "06bd9e34",
   "metadata": {},
   "source": [
    "#### Multiplty line string"
   ]
  },
  {
   "cell_type": "code",
   "execution_count": 2,
   "id": "d28bd4eb",
   "metadata": {},
   "outputs": [
    {
     "name": "stdout",
     "output_type": "stream",
     "text": [
      "Python is a high-level, interpreted, interactive and object-oriented scripting language,\n",
      "python is designed to be highly readable,\n",
      "it uses English keywords frequently where as other languages use punctuation,\n",
      "it has fewer syntactical constructions than other languages.\n"
     ]
    }
   ],
   "source": [
    "a = '''Python is a high-level, interpreted, interactive and object-oriented scripting language,\n",
    "python is designed to be highly readable,\n",
    "it uses English keywords frequently where as other languages use punctuation,\n",
    "it has fewer syntactical constructions than other languages.'''\n",
    "print(a)"
   ]
  },
  {
   "cell_type": "markdown",
   "id": "dfa10748",
   "metadata": {},
   "source": [
    "#### Escape Character"
   ]
  },
  {
   "cell_type": "code",
   "execution_count": 3,
   "id": "cbf378e2",
   "metadata": {
    "scrolled": true
   },
   "outputs": [
    {
     "data": {
      "text/plain": [
       "\"i can't do this\""
      ]
     },
     "execution_count": 3,
     "metadata": {},
     "output_type": "execute_result"
    }
   ],
   "source": [
    "s=\"i can't do this\"\n",
    "s"
   ]
  },
  {
   "cell_type": "code",
   "execution_count": 1,
   "id": "1f8b647e",
   "metadata": {},
   "outputs": [],
   "source": [
    "# Single Quote"
   ]
  },
  {
   "cell_type": "code",
   "execution_count": 6,
   "id": "a593e62a",
   "metadata": {},
   "outputs": [],
   "source": [
    "t='It\\'s alright.'"
   ]
  },
  {
   "cell_type": "code",
   "execution_count": 7,
   "id": "c3841ae8",
   "metadata": {},
   "outputs": [
    {
     "data": {
      "text/plain": [
       "\"It's alright.\""
      ]
     },
     "execution_count": 7,
     "metadata": {},
     "output_type": "execute_result"
    }
   ],
   "source": [
    "t"
   ]
  },
  {
   "cell_type": "code",
   "execution_count": 8,
   "id": "8d514fb3",
   "metadata": {},
   "outputs": [],
   "source": [
    "# new line"
   ]
  },
  {
   "cell_type": "code",
   "execution_count": 14,
   "id": "1dccfb8b",
   "metadata": {
    "scrolled": true
   },
   "outputs": [
    {
     "name": "stdout",
     "output_type": "stream",
     "text": [
      "Hello \n",
      " Mrunal\n"
     ]
    }
   ],
   "source": [
    "t = \"Hello \\n Mrunal\"\n",
    "print(t)"
   ]
  },
  {
   "cell_type": "code",
   "execution_count": 15,
   "id": "d9b84c05",
   "metadata": {},
   "outputs": [],
   "source": [
    "# tab"
   ]
  },
  {
   "cell_type": "code",
   "execution_count": 16,
   "id": "f21581e9",
   "metadata": {},
   "outputs": [
    {
     "name": "stdout",
     "output_type": "stream",
     "text": [
      "hi\tMrunal\n"
     ]
    }
   ],
   "source": [
    "t='hi\\tMrunal'\n",
    "print(t)"
   ]
  },
  {
   "cell_type": "code",
   "execution_count": 17,
   "id": "bc543478",
   "metadata": {},
   "outputs": [],
   "source": [
    "# Backspace"
   ]
  },
  {
   "cell_type": "code",
   "execution_count": 18,
   "id": "ac5c8be4",
   "metadata": {},
   "outputs": [
    {
     "name": "stdout",
     "output_type": "stream",
     "text": [
      "what can \bi do?\n"
     ]
    }
   ],
   "source": [
    "t=\"what can \\bi do?\"\n",
    "print(t)"
   ]
  },
  {
   "cell_type": "code",
   "execution_count": 21,
   "id": "b4081639",
   "metadata": {},
   "outputs": [],
   "source": [
    "# Form Feed"
   ]
  },
  {
   "cell_type": "code",
   "execution_count": 22,
   "id": "a88c85c6",
   "metadata": {},
   "outputs": [
    {
     "name": "stdout",
     "output_type": "stream",
     "text": [
      "what can \f",
      "i do?\n"
     ]
    }
   ],
   "source": [
    "t=\"what can \\fi do?\"\n",
    "print(t)"
   ]
  },
  {
   "cell_type": "code",
   "execution_count": 23,
   "id": "9cfb0f21",
   "metadata": {},
   "outputs": [],
   "source": [
    "# Slicing Strings"
   ]
  },
  {
   "cell_type": "code",
   "execution_count": 4,
   "id": "e42d1f52",
   "metadata": {},
   "outputs": [
    {
     "data": {
      "text/plain": [
       "'my name is Mrunal & i am 23 years old'"
      ]
     },
     "execution_count": 4,
     "metadata": {},
     "output_type": "execute_result"
    }
   ],
   "source": [
    "m='my name is Mrunal & i am 23 years old'\n",
    "m"
   ]
  },
  {
   "cell_type": "code",
   "execution_count": 6,
   "id": "a1f1f66a",
   "metadata": {},
   "outputs": [
    {
     "data": {
      "text/plain": [
       "'my name is Mrunal'"
      ]
     },
     "execution_count": 6,
     "metadata": {},
     "output_type": "execute_result"
    }
   ],
   "source": [
    "m[:17]"
   ]
  },
  {
   "cell_type": "code",
   "execution_count": 10,
   "id": "93b1755d",
   "metadata": {},
   "outputs": [
    {
     "data": {
      "text/plain": [
       "'my name is Mrunal'"
      ]
     },
     "execution_count": 10,
     "metadata": {},
     "output_type": "execute_result"
    }
   ],
   "source": [
    "m[:-20]"
   ]
  },
  {
   "cell_type": "code",
   "execution_count": 11,
   "id": "0105f5a7",
   "metadata": {},
   "outputs": [
    {
     "data": {
      "text/plain": [
       "'my name is Mrunal'"
      ]
     },
     "execution_count": 11,
     "metadata": {},
     "output_type": "execute_result"
    }
   ],
   "source": [
    "m[-37:-20]"
   ]
  },
  {
   "cell_type": "code",
   "execution_count": 12,
   "id": "d4ffe843",
   "metadata": {},
   "outputs": [
    {
     "data": {
      "text/plain": [
       "'dlo sraey 32 ma i & lanurM si eman ym'"
      ]
     },
     "execution_count": 12,
     "metadata": {},
     "output_type": "execute_result"
    }
   ],
   "source": [
    "m[::-1]"
   ]
  },
  {
   "cell_type": "code",
   "execution_count": 24,
   "id": "204a4854",
   "metadata": {},
   "outputs": [],
   "source": [
    "# String Concatenation"
   ]
  },
  {
   "cell_type": "code",
   "execution_count": 19,
   "id": "789da993",
   "metadata": {},
   "outputs": [],
   "source": [
    "s1='hello'\n",
    "s2='mrunal'"
   ]
  },
  {
   "cell_type": "code",
   "execution_count": 20,
   "id": "d95ee3d5",
   "metadata": {},
   "outputs": [],
   "source": [
    "s=s1+\" \"+s2"
   ]
  },
  {
   "cell_type": "code",
   "execution_count": 21,
   "id": "b0487021",
   "metadata": {},
   "outputs": [
    {
     "data": {
      "text/plain": [
       "'hello mrunal'"
      ]
     },
     "execution_count": 21,
     "metadata": {},
     "output_type": "execute_result"
    }
   ],
   "source": [
    "s"
   ]
  },
  {
   "cell_type": "code",
   "execution_count": 23,
   "id": "526494d2",
   "metadata": {},
   "outputs": [
    {
     "data": {
      "text/plain": [
       "'my name is Mrunal & i am 23 years old'"
      ]
     },
     "execution_count": 23,
     "metadata": {},
     "output_type": "execute_result"
    }
   ],
   "source": [
    "m"
   ]
  },
  {
   "cell_type": "code",
   "execution_count": 24,
   "id": "da9c895b",
   "metadata": {},
   "outputs": [
    {
     "data": {
      "text/plain": [
       "'my name is Mrunal & i am 23 years old'"
      ]
     },
     "execution_count": 24,
     "metadata": {},
     "output_type": "execute_result"
    }
   ],
   "source": [
    "s='my name is Mrunal & i am 23 years old'\n"
   ]
  },
  {
   "cell_type": "markdown",
   "id": "6aa4205e",
   "metadata": {},
   "source": [
    "# String Methods"
   ]
  },
  {
   "cell_type": "code",
   "execution_count": null,
   "id": "92ac7ffe",
   "metadata": {},
   "outputs": [],
   "source": []
  }
 ],
 "metadata": {
  "kernelspec": {
   "display_name": "Python 3 (ipykernel)",
   "language": "python",
   "name": "python3"
  },
  "language_info": {
   "codemirror_mode": {
    "name": "ipython",
    "version": 3
   },
   "file_extension": ".py",
   "mimetype": "text/x-python",
   "name": "python",
   "nbconvert_exporter": "python",
   "pygments_lexer": "ipython3",
   "version": "3.9.7"
  }
 },
 "nbformat": 4,
 "nbformat_minor": 5
}
